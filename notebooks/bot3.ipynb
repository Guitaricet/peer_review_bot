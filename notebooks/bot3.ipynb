{
 "cells": [
  {
   "cell_type": "code",
   "execution_count": 1,
   "metadata": {},
   "outputs": [],
   "source": [
    "import telebot\n",
    "import config"
   ]
  },
  {
   "cell_type": "code",
   "execution_count": 2,
   "metadata": {},
   "outputs": [],
   "source": [
    "bot = telebot.TeleBot(config.token)"
   ]
  },
  {
   "cell_type": "code",
   "execution_count": 3,
   "metadata": {},
   "outputs": [],
   "source": [
    "telebot.apihelper.proxy = {'https': config.proxy}"
   ]
  },
  {
   "cell_type": "code",
   "execution_count": 4,
   "metadata": {},
   "outputs": [],
   "source": [
    "@bot.message_handler(commands=['register'])\n",
    "def register(message):\n",
    "    bot.send_message(message.chat.id, config.registration_message)"
   ]
  },
  {
   "cell_type": "code",
   "execution_count": 8,
   "metadata": {},
   "outputs": [],
   "source": [
    "global document\n",
    "document = None\n",
    "\n",
    "@bot.message_handler(content_types=['document'])\n",
    "def recieve_assignment(message):\n",
    "    global document\n",
    "    document = message.document\n",
    "    print('\\n\\n\\n')\n",
    "    print(type(document))\n",
    "    print(document)\n",
    "    print('\\n\\n\\n')\n",
    "    fname = message.document.file_name"
   ]
  },
  {
   "cell_type": "code",
   "execution_count": 9,
   "metadata": {},
   "outputs": [
    {
     "name": "stdout",
     "output_type": "stream",
     "text": [
      "\n",
      "\n",
      "\n",
      "\n",
      "<class 'telebot.types.Document'>\n",
      "{'file_id': 'BQADAgADDwMAAofbOEshhKZH8radIwI', 'thumb': None, 'file_name': 'tfdata_test.ipynb', 'mime_type': 'text/plain', 'file_size': 11209}\n",
      "\n",
      "\n",
      "\n",
      "\n"
     ]
    }
   ],
   "source": [
    "bot.polling()"
   ]
  },
  {
   "cell_type": "code",
   "execution_count": 10,
   "metadata": {},
   "outputs": [],
   "source": [
    "document"
   ]
  },
  {
   "cell_type": "code",
   "execution_count": 6,
   "metadata": {},
   "outputs": [],
   "source": [
    "dd = {'content_type': 'document', 'message_id': 13, 'from_user': {'id': 132238726, 'is_bot': False, 'first_name': 'Влад', 'username': 'dropout05', 'last_name': 'Лялин', 'language_code': 'en'}, 'date': 1550058363, 'chat': {'type': 'private', 'last_name': 'Лялин', 'first_name': 'Влад', 'username': 'dropout05', 'id': 132238726, 'title': None, 'all_members_are_administrators': None, 'photo': None, 'description': None, 'invite_link': None, 'pinned_message': None, 'sticker_set_name': None, 'can_set_sticker_set': None}, 'forward_from_chat': None, 'forward_from': None, 'forward_date': None, 'reply_to_message': None, 'edit_date': None, 'media_group_id': None, 'author_signature': None, 'text': None, 'entities': None, 'caption_entities': None, 'audio': None, 'document': {'file_id': 'BQADAgADeQIAAp3JIUuBFcS1fqKxdwI', 'thumb': '<telebot.types.PhotoSize object at 0x107ce2588>', 'file_name': 'LyalinCV (1).pdf', 'mime_type': 'application/pdf', 'file_size': 22655}, 'photo': None, 'sticker': None, 'video': None, 'video_note': None, 'voice': None, 'caption': None, 'contact': None, 'location': None, 'venue': None, 'new_chat_member': None, 'new_chat_members': None, 'left_chat_member': None, 'new_chat_title': None, 'new_chat_photo': None, 'delete_chat_photo': None, 'group_chat_created': None, 'supergroup_chat_created': None, 'channel_chat_created': None, 'migrate_to_chat_id': None, 'migrate_from_chat_id': None, 'pinned_message': None, 'invoice': None, 'successful_payment': None, 'connected_website': None, 'json': {'message_id': 13, 'from': {'id': 132238726, 'is_bot': False, 'first_name': 'Влад', 'last_name': 'Лялин', 'username': 'dropout05', 'language_code': 'en'}, 'chat': {'id': 132238726, 'first_name': 'Влад', 'last_name': 'Лялин', 'username': 'dropout05', 'type': 'private'}, 'date': 1550058363, 'document': {'file_name': 'LyalinCV (1).pdf', 'mime_type': 'application/pdf', 'thumb': {'file_id': 'AAQCABNx51EPAARynZFtRlFhefYxAAIC', 'file_size': 1675, 'width': 69, 'height': 90}, 'file_id': 'BQADAgADeQIAAp3JIUuBFcS1fqKxdwI', 'file_size': 22655}}}"
   ]
  },
  {
   "cell_type": "code",
   "execution_count": 12,
   "metadata": {},
   "outputs": [],
   "source": [
    "from pprint import pprint"
   ]
  },
  {
   "cell_type": "code",
   "execution_count": 8,
   "metadata": {},
   "outputs": [],
   "source": [
    "dd.update({'d': 1})"
   ]
  },
  {
   "cell_type": "code",
   "execution_count": 13,
   "metadata": {},
   "outputs": [
    {
     "name": "stdout",
     "output_type": "stream",
     "text": [
      "{'audio': None,\n",
      " 'author_signature': None,\n",
      " 'caption': None,\n",
      " 'caption_entities': None,\n",
      " 'channel_chat_created': None,\n",
      " 'chat': {'all_members_are_administrators': None,\n",
      "          'can_set_sticker_set': None,\n",
      "          'description': None,\n",
      "          'first_name': 'Влад',\n",
      "          'id': 132238726,\n",
      "          'invite_link': None,\n",
      "          'last_name': 'Лялин',\n",
      "          'photo': None,\n",
      "          'pinned_message': None,\n",
      "          'sticker_set_name': None,\n",
      "          'title': None,\n",
      "          'type': 'private',\n",
      "          'username': 'dropout05'},\n",
      " 'connected_website': None,\n",
      " 'contact': None,\n",
      " 'content_type': 'document',\n",
      " 'date': 1550058363,\n",
      " 'delete_chat_photo': None,\n",
      " 'document': {'file_id': 'BQADAgADeQIAAp3JIUuBFcS1fqKxdwI',\n",
      "              'file_name': 'LyalinCV (1).pdf',\n",
      "              'file_size': 22655,\n",
      "              'mime_type': 'application/pdf',\n",
      "              'thumb': '<telebot.types.PhotoSize object at 0x107ce2588>'},\n",
      " 'edit_date': None,\n",
      " 'entities': None,\n",
      " 'forward_date': None,\n",
      " 'forward_from': None,\n",
      " 'forward_from_chat': None,\n",
      " 'from_user': {'first_name': 'Влад',\n",
      "               'id': 132238726,\n",
      "               'is_bot': False,\n",
      "               'language_code': 'en',\n",
      "               'last_name': 'Лялин',\n",
      "               'username': 'dropout05'},\n",
      " 'group_chat_created': None,\n",
      " 'invoice': None,\n",
      " 'json': {'chat': {'first_name': 'Влад',\n",
      "                   'id': 132238726,\n",
      "                   'last_name': 'Лялин',\n",
      "                   'type': 'private',\n",
      "                   'username': 'dropout05'},\n",
      "          'date': 1550058363,\n",
      "          'document': {'file_id': 'BQADAgADeQIAAp3JIUuBFcS1fqKxdwI',\n",
      "                       'file_name': 'LyalinCV (1).pdf',\n",
      "                       'file_size': 22655,\n",
      "                       'mime_type': 'application/pdf',\n",
      "                       'thumb': {'file_id': 'AAQCABNx51EPAARynZFtRlFhefYxAAIC',\n",
      "                                 'file_size': 1675,\n",
      "                                 'height': 90,\n",
      "                                 'width': 69}},\n",
      "          'from': {'first_name': 'Влад',\n",
      "                   'id': 132238726,\n",
      "                   'is_bot': False,\n",
      "                   'language_code': 'en',\n",
      "                   'last_name': 'Лялин',\n",
      "                   'username': 'dropout05'},\n",
      "          'message_id': 13},\n",
      " 'left_chat_member': None,\n",
      " 'location': None,\n",
      " 'media_group_id': None,\n",
      " 'message_id': 13,\n",
      " 'migrate_from_chat_id': None,\n",
      " 'migrate_to_chat_id': None,\n",
      " 'new_chat_member': None,\n",
      " 'new_chat_members': None,\n",
      " 'new_chat_photo': None,\n",
      " 'new_chat_title': None,\n",
      " 'photo': None,\n",
      " 'pinned_message': None,\n",
      " 'reply_to_message': None,\n",
      " 'sticker': None,\n",
      " 'successful_payment': None,\n",
      " 'supergroup_chat_created': None,\n",
      " 'text': None,\n",
      " 'venue': None,\n",
      " 'video': None,\n",
      " 'video_note': None,\n",
      " 'voice': None}\n"
     ]
    }
   ],
   "source": [
    "pprint(dd)"
   ]
  },
  {
   "cell_type": "code",
   "execution_count": null,
   "metadata": {},
   "outputs": [],
   "source": []
  }
 ],
 "metadata": {
  "kernelspec": {
   "display_name": "bot",
   "language": "python",
   "name": "bot"
  },
  "language_info": {
   "codemirror_mode": {
    "name": "ipython",
    "version": 3
   },
   "file_extension": ".py",
   "mimetype": "text/x-python",
   "name": "python",
   "nbconvert_exporter": "python",
   "pygments_lexer": "ipython3",
   "version": "3.7.2"
  }
 },
 "nbformat": 4,
 "nbformat_minor": 2
}
